{
 "cells": [
  {
   "cell_type": "code",
   "execution_count": 13,
   "id": "9f1fc499",
   "metadata": {},
   "outputs": [],
   "source": [
    "# read the phenotypic tsv file for the final generation\n",
    "import pandas as pd\n",
    "\n",
    "path = \"/Users/xuly4739/Library/CloudStorage/OneDrive-UCB-O365/Documents/coding/PyProject/StatRev_IndirectGene/Data/test1/onlyAM/sim_output_phen_gen15.tsv\"\n",
    "\n",
    "df_phen_gen10 = pd.read_csv(path, sep=\"\\t\")"
   ]
  },
  {
   "cell_type": "code",
   "execution_count": 14,
   "id": "0c6bd5c0",
   "metadata": {},
   "outputs": [
    {
     "name": "stdout",
     "output_type": "stream",
     "text": [
      "           Y1        Y2       Y1P       Y2P       Y1M       Y2M\n",
      "Y1   1.000000  0.033834  0.399029  0.040891  0.401415  0.046941\n",
      "Y2   0.033834  1.000000  0.054610  0.571450  0.041382  0.569115\n",
      "Y1P  0.399029  0.054610  1.000000  0.038815  0.400212  0.097835\n",
      "Y2P  0.040891  0.571450  0.038815  1.000000  0.054065  0.303413\n",
      "Y1M  0.401415  0.041382  0.400212  0.054065  1.000000  0.035802\n",
      "Y2M  0.046941  0.569115  0.097835  0.303413  0.035802  1.000000\n"
     ]
    }
   ],
   "source": [
    "# check the correlation matrix of the dataframe\n",
    "# For specific columns only\n",
    "specific_cols = ['Y1', 'Y2', 'Y1P', 'Y2P', 'Y1M', 'Y2M']\n",
    "correlation_matrix_subset = df_phen_gen10[specific_cols].corr()\n",
    "print(correlation_matrix_subset)"
   ]
  }
 ],
 "metadata": {
  "kernelspec": {
   "display_name": "Python 3",
   "language": "python",
   "name": "python3"
  },
  "language_info": {
   "codemirror_mode": {
    "name": "ipython",
    "version": 3
   },
   "file_extension": ".py",
   "mimetype": "text/x-python",
   "name": "python",
   "nbconvert_exporter": "python",
   "pygments_lexer": "ipython3",
   "version": "3.9.6"
  }
 },
 "nbformat": 4,
 "nbformat_minor": 5
}
